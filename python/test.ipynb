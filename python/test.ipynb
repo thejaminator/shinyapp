{
 "cells": [
  {
   "cell_type": "code",
   "execution_count": 17,
   "metadata": {},
   "outputs": [],
   "source": [
    "from dateutil.rrule import rrule, MINUTELY\n",
    "import datetime\n",
    "import math"
   ]
  },
  {
   "cell_type": "code",
   "execution_count": 5,
   "metadata": {},
   "outputs": [
    {
     "data": {
      "text/plain": [
       "<dateutil.rrule.rrule at 0x104276898>"
      ]
     },
     "execution_count": 5,
     "metadata": {},
     "output_type": "execute_result"
    }
   ],
   "source": [
    "rrule(MINUTELY,interval=30,dtstart=datetime.date.today())"
   ]
  },
  {
   "cell_type": "code",
   "execution_count": 14,
   "metadata": {},
   "outputs": [
    {
     "data": {
      "text/plain": [
       "[datetime.datetime(2019, 11, 3, 20, 43, 54)]"
      ]
     },
     "execution_count": 14,
     "metadata": {},
     "output_type": "execute_result"
    }
   ],
   "source": [
    "list(rrule(MINUTELY,interval=30,dtstart=datetime.datetime.now(),count=1))"
   ]
  },
  {
   "cell_type": "code",
   "execution_count": 21,
   "metadata": {},
   "outputs": [],
   "source": [
    "def get_time(interval=1):\n",
    "    \"\"\"\n",
    "    MAYBEDEPRECATED IN PLACE OF TIMER\n",
    "    Gets current time with seconds floored to specified interval\n",
    "    \n",
    "    Parameters\n",
    "    -----\n",
    "    interval: int\n",
    "        interval e.g. every 10 seconds, every 30 seconds, every 60 seconds\n",
    "    \n",
    "    Returns\n",
    "    -----\n",
    "    str\n",
    "        time floored to specified interval in iso format\n",
    "    \n",
    "    >>>> time_interval(10)\n",
    "    '2019-10-06T02:34:50'\n",
    "    >>>> time_interval(1)\n",
    "    '2019-10-06T02:35:18'\n",
    "    >>>> time_interval(60)\n",
    "    '2019-10-06T02:35:00'\n",
    "    \n",
    "    \"\"\"\n",
    "    time_now=datetime.datetime.now().replace(microsecond=0)\n",
    "    time_now = time_now.replace(second = math.floor(time_now.second/interval)*interval)\n",
    "    return time_now\n"
   ]
  },
  {
   "cell_type": "code",
   "execution_count": 1,
   "metadata": {},
   "outputs": [],
   "source": [
    "def get_request_ura(date_time):\n",
    "    \"\"\"\n",
    "    This function is seperate from carpark_request_data \n",
    "    because we use a decorator to keep_trying for repsonse 200\n",
    "    queries carpark avability for given datetime\n",
    "    in python datetime format.\n",
    "    \n",
    "    NOTE: Api has some bug where if you query for midnight it won't worked i.e '2019-10-03T00:00:00'\n",
    "\n",
    "    Parameters\n",
    "    ----\n",
    "    date_time: datetime object\n",
    "    \n",
    "    returns\n",
    "    -----\n",
    "    raw json of carpark avail\n",
    "    \n",
    "    e.g. get_request(date_time=date_time).json()[\"items\"][0][\"carpark_data\"]\n",
    "    \"\"\"\n",
    "    #convert to iso for api\n",
    "    date_time = date_time.isoformat()\n",
    "    # print(\"Querying...\", date_time)\n",
    "    url=\"https://api.data.gov.sg/v1/transport/carpark-availability\"\n",
    "    response = requests.get(url, {\"date_time\": date_time})\n",
    "    return response"
   ]
  },
  {
   "cell_type": "code",
   "execution_count": null,
   "metadata": {},
   "outputs": [],
   "source": [
    "get"
   ]
  }
 ],
 "metadata": {
  "kernelspec": {
   "display_name": "Python [conda env:tf2]",
   "language": "python",
   "name": "conda-env-tf2-py"
  },
  "language_info": {
   "codemirror_mode": {
    "name": "ipython",
    "version": 3
   },
   "file_extension": ".py",
   "mimetype": "text/x-python",
   "name": "python",
   "nbconvert_exporter": "python",
   "pygments_lexer": "ipython3",
   "version": "3.6.8"
  },
  "varInspector": {
   "cols": {
    "lenName": 16,
    "lenType": 16,
    "lenVar": 40
   },
   "kernels_config": {
    "python": {
     "delete_cmd_postfix": "",
     "delete_cmd_prefix": "del ",
     "library": "var_list.py",
     "varRefreshCmd": "print(var_dic_list())"
    },
    "r": {
     "delete_cmd_postfix": ") ",
     "delete_cmd_prefix": "rm(",
     "library": "var_list.r",
     "varRefreshCmd": "cat(var_dic_list()) "
    }
   },
   "types_to_exclude": [
    "module",
    "function",
    "builtin_function_or_method",
    "instance",
    "_Feature"
   ],
   "window_display": false
  }
 },
 "nbformat": 4,
 "nbformat_minor": 2
}
